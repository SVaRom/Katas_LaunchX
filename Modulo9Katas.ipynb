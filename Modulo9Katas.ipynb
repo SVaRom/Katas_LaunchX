{
 "cells": [
  {
   "cell_type": "markdown",
   "metadata": {},
   "source": [
    "# Ejercicio: Uso de funciones en Python\n",
    "\n",
    "## Ejercicio 1: Trabajar con argumentos en funciones\n",
    "\n",
    "Los argumentos requeridos en las funciones se utilizan cuando las funciones necesitan que esos argumentos funcionen correctamente. En este ejercicio, construirás un informe de combustible que requiere información de varias ubicaciones de combustible en todo el cohete.\n",
    "\n",
    "Comienza por crear una función que necesite tres lecturas de combustible y devuelva un informe:\n"
   ]
  },
  {
   "cell_type": "code",
   "execution_count": 1,
   "metadata": {},
   "outputs": [],
   "source": [
    "def fuel_report(lecture1,lecture2,lecture3):\n",
    "    info_average=(lecture1+lecture2+lecture3)/3\n",
    "    return f'''The first tank has {lecture1}%\n",
    "    The second tank has {lecture2}%\n",
    "    The third tank has {lecture3}%\n",
    "    Average fuel: {info_average}%'''\n"
   ]
  },
  {
   "cell_type": "markdown",
   "metadata": {},
   "source": [
    "Ahora que hemos definido la función de informes, vamos a comprobarlo. Para esta misión, los tanques no están llenos:"
   ]
  },
  {
   "cell_type": "code",
   "execution_count": 2,
   "metadata": {},
   "outputs": [
    {
     "name": "stdout",
     "output_type": "stream",
     "text": [
      "The first tank has 0%\n",
      "    The second tank has 0%\n",
      "    The third tank has 0%\n",
      "    Average fuel: 0.0%\n"
     ]
    }
   ],
   "source": [
    "print(fuel_report(0,0,0))"
   ]
  },
  {
   "cell_type": "markdown",
   "metadata": {},
   "source": [
    "En lugar de simplemente crear el informe, la función también está calculando el promedio. Mejora la legibilidad extrayendo el cálculo promedio de la función en una nueva función para que el promedio se pueda hacer de forma independiente:"
   ]
  },
  {
   "cell_type": "code",
   "execution_count": 3,
   "metadata": {},
   "outputs": [],
   "source": [
    "def average(values):\n",
    "    size=len(values)\n",
    "    total=sum(values)\n",
    "    return total/size"
   ]
  },
  {
   "cell_type": "markdown",
   "metadata": {},
   "source": [
    "Ahora actualiza la función de informes pero llamando a la nueva función del promedio:"
   ]
  },
  {
   "cell_type": "code",
   "execution_count": 7,
   "metadata": {},
   "outputs": [],
   "source": [
    "def fuel_report(lecture1,lecture2,lecture3):\n",
    "    return f'''The first tank has {lecture1}%\n",
    "    The second tank has {lecture2}%\n",
    "    The third tank has {lecture3}%\n",
    "    Average fuel: {average([lecture1,lecture2,lecture3])}%'''\n"
   ]
  },
  {
   "cell_type": "markdown",
   "metadata": {},
   "source": [
    "# Ejercicio 2: Trabajo con argumentos de palabra clave\n",
    "\n",
    "## Ejercicio : Trabajar con argumentos de palabras clave en funciones\n",
    "\n",
    "En este ejercicio, construirás un informe de cohete que requiere varias piezas de información, como el tiempo hasta el destino, el combustible a la izquierda y el nombre del destino. Comienza por crear una función que creará un informe preciso de la misión:"
   ]
  },
  {
   "cell_type": "code",
   "execution_count": 9,
   "metadata": {},
   "outputs": [
    {
     "name": "stdout",
     "output_type": "stream",
     "text": [
      "Mission to:Oaxaca\n",
      "    Prelaunch time at:12\n",
      "    Flight time:23\n",
      "    Internal tank:32%\n",
      "    External tank:12%\n"
     ]
    }
   ],
   "source": [
    "# Función con un informe preciso de la misión. Considera hora de prelanzamiento, tiempo de vuelo, destino, tanque externo y tanque interno\n",
    "def report(prelaunch_time,flight_time,destination,external_tank,internal_tank):\n",
    "    return f'''Mission to:{destination}\n",
    "    Prelaunch time at:{prelaunch_time}\n",
    "    Flight time:{flight_time}\n",
    "    Internal tank:{internal_tank}%\n",
    "    External tank:{external_tank}%'''\n",
    "print(report(12,23,'Oaxaca',12,32))"
   ]
  },
  {
   "cell_type": "markdown",
   "metadata": {},
   "source": [
    "La función es problemática porque no se puede adaptar para minutos adicionales o tanques adicionales de combustible. Hazlo más flexible permitiendo cualquier número de pasos basados en el tiempo y cualquier número de tanques. En lugar de usar *args y **kwargs, aprovecha el hecho de que puedes usar cualquier nombre que desees. Asegurate que la función sea más legible mediante el uso de nombres de variables que están asociados con las entradas, como *minutes y **fuel_reservoirs:"
   ]
  },
  {
   "cell_type": "code",
   "execution_count": 10,
   "metadata": {},
   "outputs": [
    {
     "name": "stdout",
     "output_type": "stream",
     "text": [
      "Mission to:Oaxaca\n",
      "    Total travel time:25m\n",
      "    Total fuel:44%\n"
     ]
    }
   ],
   "source": [
    "def report(destination, *minutes,**fuel_reservoirs):\n",
    "    return f'''Mission to:{destination}\n",
    "    Total travel time:{sum(minutes)}m\n",
    "    Total fuel:{sum(fuel_reservoirs.values())}%'''\n",
    "print(report('Oaxaca',12,13,internal_tank=12,external_tank=32))\n"
   ]
  },
  {
   "cell_type": "markdown",
   "metadata": {},
   "source": [
    "Debido a que el combustible que queda en los tanques es específico de cada tanque, actualiza la función para usar el nombre de cada tanque en el informe:\n",
    "\n"
   ]
  },
  {
   "cell_type": "code",
   "execution_count": 39,
   "metadata": {},
   "outputs": [
    {
     "name": "stdout",
     "output_type": "stream",
     "text": [
      "Mission to:Oaxaca\n",
      "    Total travel time:25m\n",
      "    Total fuel:44%\n",
      "The internal_tank has 12\n",
      "The external_tank has 32\n"
     ]
    }
   ],
   "source": [
    "def report(destination, *minutes,**fuel_reservoirs):\n",
    "    rp= f'''Mission to:{destination}\n",
    "    Total travel time:{sum(minutes)}m\n",
    "    Total fuel:{sum(fuel_reservoirs.values())}%'''\n",
    "    for tank,percent in fuel_reservoirs.items():\n",
    "        rp+=f'\\nThe {tank} has {percent}'\n",
    "    return rp\n",
    "\n",
    "print(report('Oaxaca',12,13,internal_tank=12,external_tank=32))"
   ]
  }
 ],
 "metadata": {
  "interpreter": {
   "hash": "aee8b7b246df8f9039afb4144a1f6fd8d2ca17a180786b69acc140d282b71a49"
  },
  "kernelspec": {
   "display_name": "Python 3.10.2 64-bit",
   "language": "python",
   "name": "python3"
  },
  "language_info": {
   "codemirror_mode": {
    "name": "ipython",
    "version": 3
   },
   "file_extension": ".py",
   "mimetype": "text/x-python",
   "name": "python",
   "nbconvert_exporter": "python",
   "pygments_lexer": "ipython3",
   "version": "3.10.2"
  },
  "orig_nbformat": 4
 },
 "nbformat": 4,
 "nbformat_minor": 2
}
