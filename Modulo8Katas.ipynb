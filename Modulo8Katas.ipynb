{
 "cells": [
  {
   "cell_type": "markdown",
   "metadata": {},
   "source": [
    "# Ejercicio 1: Creación de diccionarios de Python\n",
    "\n",
    "## Ejercicio: Crear y modificar un diccionario de Python\n",
    "\n",
    "Para este ejercicio, crearás un diccionario que almacene información sobre el planeta Marte.\n",
    "Agrega el código para crear un nuevo diccionario denominado 'planet'. Rellena con la siguiente información:\n",
    "\n",
    "name: Mars\n",
    "moons: 2"
   ]
  },
  {
   "cell_type": "code",
   "execution_count": 3,
   "metadata": {},
   "outputs": [],
   "source": [
    "planet={\n",
    "    'name':'Mars',\n",
    "    'moons':2\n",
    "}"
   ]
  },
  {
   "cell_type": "markdown",
   "metadata": {},
   "source": [
    "Para recuperar valores, puede utilizar el método get o corchetes ([ ]) con el nombre de la clave que desea recuperar."
   ]
  },
  {
   "cell_type": "code",
   "execution_count": 7,
   "metadata": {},
   "outputs": [
    {
     "name": "stdout",
     "output_type": "stream",
     "text": [
      "Planet Mars has 2 moons\n"
     ]
    }
   ],
   "source": [
    "print(f'Planet {planet.get(\"name\")} has {planet[\"moons\"]} moons')"
   ]
  },
  {
   "cell_type": "markdown",
   "metadata": {},
   "source": [
    "Agrega un nuevo valor con una clave de 'circunferencia (km)'. Este nuevo valor debería almacenar un diccionario con las dos circunferencias del planeta:\n",
    "\n",
    "polar: 6752\n",
    "equatorial: 6792"
   ]
  },
  {
   "cell_type": "code",
   "execution_count": 8,
   "metadata": {},
   "outputs": [],
   "source": [
    "planet[\"circunferencia (km)\"]={\n",
    "    'polar':6752,\n",
    "    'equatorial':6792\n",
    "}"
   ]
  },
  {
   "cell_type": "markdown",
   "metadata": {},
   "source": [
    "Imprime el nombre del planeta con su circunferencia polar."
   ]
  },
  {
   "cell_type": "code",
   "execution_count": 9,
   "metadata": {},
   "outputs": [
    {
     "name": "stdout",
     "output_type": "stream",
     "text": [
      "Planet Mars has 6752 of polar circumference\n"
     ]
    }
   ],
   "source": [
    "print(f'Planet {planet.get(\"name\")} has {planet[\"circunferencia (km)\"][\"polar\"]} of polar circumference')"
   ]
  },
  {
   "cell_type": "markdown",
   "metadata": {},
   "source": [
    "# Ejercicio 2: Programación dinámica con diccionarios\n",
    "\n",
    "## Ejercicio: Cálculo de valores\n",
    "\n",
    "En este escenario, calcularás tanto el número total de lunas en el sistema solar como el número promedio de lunas que tiene un planeta"
   ]
  },
  {
   "cell_type": "code",
   "execution_count": 10,
   "metadata": {},
   "outputs": [],
   "source": [
    "planet_moons = {\n",
    "    'mercury': 0,\n",
    "    'venus': 0,\n",
    "    'earth': 1,\n",
    "    'mars': 2,\n",
    "    'jupiter': 79,\n",
    "    'saturn': 82,\n",
    "    'uranus': 27,\n",
    "    'neptune': 14,\n",
    "    'pluto': 5,\n",
    "    'haumea': 2,\n",
    "    'makemake': 1,\n",
    "    'eris': 1\n",
    "}"
   ]
  },
  {
   "cell_type": "markdown",
   "metadata": {},
   "source": [
    "Agrega el código a continuación para determinar el número de lunas. Comienza almacenando el valor values de planet_moons en una variable denominada moons. A continuación, almacena el número de planetas en una variable denominada planets."
   ]
  },
  {
   "cell_type": "code",
   "execution_count": 15,
   "metadata": {},
   "outputs": [],
   "source": [
    "moons=planet_moons.values()\n",
    "planets=len(planet_moons.keys())"
   ]
  },
  {
   "cell_type": "markdown",
   "metadata": {},
   "source": [
    "Agrega el código para contar el número de lunas. Puedes hacerlo creando un ciclo for para iterar a través de las lunas moons y agregándolos a una variable denominada total_moons. Finalmente calcule el promedio dividiendo total_moons por planets e imprimiendo los resultados."
   ]
  },
  {
   "cell_type": "code",
   "execution_count": 17,
   "metadata": {},
   "outputs": [
    {
     "name": "stdout",
     "output_type": "stream",
     "text": [
      "17.833333333333332\n"
     ]
    }
   ],
   "source": [
    "total_moons=0\n",
    "for moon in moons:\n",
    "    total_moons+=moon\n",
    "\n",
    "average=total_moons/planets\n",
    "print(average)"
   ]
  }
 ],
 "metadata": {
  "interpreter": {
   "hash": "aee8b7b246df8f9039afb4144a1f6fd8d2ca17a180786b69acc140d282b71a49"
  },
  "kernelspec": {
   "display_name": "Python 3.10.2 64-bit",
   "language": "python",
   "name": "python3"
  },
  "language_info": {
   "codemirror_mode": {
    "name": "ipython",
    "version": 3
   },
   "file_extension": ".py",
   "mimetype": "text/x-python",
   "name": "python",
   "nbconvert_exporter": "python",
   "pygments_lexer": "ipython3",
   "version": "3.10.2"
  },
  "orig_nbformat": 4
 },
 "nbformat": 4,
 "nbformat_minor": 2
}
